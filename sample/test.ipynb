{
 "cells": [
  {
   "cell_type": "code",
   "execution_count": 1,
   "id": "77c200e6",
   "metadata": {},
   "outputs": [],
   "source": [
    "import json\n",
    "import pandas as pd"
   ]
  },
  {
   "cell_type": "code",
   "execution_count": 2,
   "id": "f1b50274",
   "metadata": {},
   "outputs": [
    {
     "name": "stdout",
     "output_type": "stream",
     "text": [
      ",t.data.pt\n",
      ",t.data.org\n",
      ",t.data.link\n",
      ",t.data.week\n",
      ",t.data.row_id\n",
      ",t.data.pickers\n",
      ",t.data.keywords\n",
      ",t.data.platform\n",
      ",t.data.subbatch\n",
      ",t.data.refinement\n",
      ",t.data.claude_reason\n",
      ",t.data.welo_unique_id\n",
      ",t.data.claude_relevant\n",
      ",t.data.multipt_pickers\n",
      ",t.data.pickers_choices\n",
      ",t.data.refinement_choices\n",
      ",t.data.claude_relevant_rib\n",
      ",t.data.claude_preference_aware\n",
      ",t.data.claude_relevant_defects\n",
      ",t.data.claude_irrelevant_pickers\n",
      ",t.data.claude_preference_aware_rib\n",
      ",t.data.claude_relevant_rib_defects\n",
      ",t.data.claude_irrelevant_refinement\n",
      ",t.data.claude_preference_aware_defects\n",
      ",t.data.claude_preference_aware_rib_defects\n",
      ",t.data.claude_preference_violating_pickers\n",
      ",t.data.claude_preference_violating_refinement\n"
     ]
    }
   ],
   "source": [
    "f = open('data blinds.json')\n",
    "data = json.load(f)\n",
    "for field in data:\n",
    "    print(f\",t.data.{field}\")"
   ]
  },
  {
   "cell_type": "code",
   "execution_count": 3,
   "id": "e7e6797b",
   "metadata": {},
   "outputs": [
    {
     "name": "stdout",
     "output_type": "stream",
     "text": [
      ",t.data.pt\n",
      ",t.data.org\n",
      ",t.data.link\n",
      ",t.data.week\n",
      ",t.data.row_id\n",
      ",t.data.pickers\n",
      ",t.data.keywords\n",
      ",t.data.platform\n",
      ",t.data.subbatch\n",
      ",t.data.refinement\n",
      ",t.data.claude_reason\n",
      ",t.data.annotator_1_id\n",
      ",t.data.annotator_2_id\n",
      ",t.data.part_1_task_id\n",
      ",t.data.welo_unique_id\n",
      ",t.data.claude_relevant\n",
      ",t.data.multipt_pickers\n",
      ",t.data.pickers_choices\n",
      ",t.data.refinement_choices\n",
      ",t.data.claude_relevant_rib\n",
      ",t.data.rater_1_q1_response\n",
      ",t.data.rater_1_q2_response\n",
      ",t.data.rater_1_q3_response\n",
      ",t.data.rater_1_q4_response\n",
      ",t.data.rater_1_q6_response\n",
      ",t.data.rater_1_q7_response\n",
      ",t.data.rater_2_q1_response\n",
      ",t.data.rater_2_q2_response\n",
      ",t.data.rater_2_q3_response\n",
      ",t.data.rater_2_q4_response\n",
      ",t.data.rater_2_q6_response\n",
      ",t.data.rater_2_q7_response\n",
      ",t.data.claude_preference_aware\n",
      ",t.data.claude_relevant_defects\n",
      ",t.data.claude_irrelevant_pickers\n",
      ",t.data.claude_preference_aware_rib\n",
      ",t.data.claude_relevant_rib_defects\n",
      ",t.data.rater_1_q5_pickers_response\n",
      ",t.data.rater_1_q8_pickers_response\n",
      ",t.data.rater_2_q5_pickers_response\n",
      ",t.data.rater_2_q8_pickers_response\n",
      ",t.data.claude_irrelevant_refinement\n",
      ",t.data.rater_1_q5_refinement_response\n",
      ",t.data.rater_1_q8_refinement_response\n",
      ",t.data.rater_2_q5_refinement_response\n",
      ",t.data.rater_2_q8_refinement_response\n",
      ",t.data.claude_preference_aware_defects\n",
      ",t.data.claude_preference_aware_rib_defects\n",
      ",t.data.claude_preference_violating_pickers\n",
      ",t.data.claude_preference_violating_refinement\n"
     ]
    }
   ],
   "source": [
    "f = open('data arbitration.json')\n",
    "data = json.load(f)\n",
    "for field in data:\n",
    "    print(f\",t.data.{field}\")"
   ]
  },
  {
   "cell_type": "code",
   "execution_count": 4,
   "id": "c5bb4f93",
   "metadata": {},
   "outputs": [
    {
     "name": "stdout",
     "output_type": "stream",
     "text": [
      ",a.id\n",
      ",a.result\n",
      ",a.created_username\n",
      ",a.created_ago\n",
      ",a.completed_by\n",
      ",a.last_annotation_history\n",
      ",a.reviews\n",
      ",a.was_cancelled\n",
      ",a.ground_truth\n",
      ",a.created_at\n",
      ",a.updated_at\n",
      ",a.draft_created_at\n",
      ",a.lead_time\n",
      ",a.import_id\n",
      ",a.last_action\n",
      ",a.bulk_created\n",
      ",a.task\n",
      ",a.project\n",
      ",a.updated_by\n",
      ",a.parent_prediction\n",
      ",a.parent_annotation\n",
      ",a.last_created_by\n",
      ",a.comment_count\n",
      ",a.unresolved_comment_count\n"
     ]
    }
   ],
   "source": [
    "f = open('annotations blinds.json')\n",
    "data = json.load(f)\n",
    "for field in data[0]:\n",
    "    print(f\",a.{field}\")"
   ]
  }
 ],
 "metadata": {
  "kernelspec": {
   "display_name": "wal",
   "language": "python",
   "name": "python3"
  },
  "language_info": {
   "codemirror_mode": {
    "name": "ipython",
    "version": 3
   },
   "file_extension": ".py",
   "mimetype": "text/x-python",
   "name": "python",
   "nbconvert_exporter": "python",
   "pygments_lexer": "ipython3",
   "version": "3.10.14"
  }
 },
 "nbformat": 4,
 "nbformat_minor": 5
}
